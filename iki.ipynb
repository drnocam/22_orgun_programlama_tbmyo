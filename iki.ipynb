{
 "cells": [
  {
   "cell_type": "markdown",
   "metadata": {},
   "source": [
    "## Programlamaya Giriş\n",
    "* interaktif **python** _notebook_\n",
    "> alıntı\n"
   ]
  },
  {
   "cell_type": "code",
   "execution_count": 9,
   "metadata": {},
   "outputs": [
    {
     "name": "stdout",
     "output_type": "stream",
     "text": [
      "merhaba\n"
     ]
    },
    {
     "data": {
      "text/plain": [
       "8"
      ]
     },
     "execution_count": 9,
     "metadata": {},
     "output_type": "execute_result"
    }
   ],
   "source": [
    "print(\"merhaba\")\n",
    "değişken = 35\n",
    "3+5"
   ]
  },
  {
   "cell_type": "code",
   "execution_count": 15,
   "metadata": {},
   "outputs": [
    {
     "data": {
      "text/plain": [
       "2"
      ]
     },
     "execution_count": 15,
     "metadata": {},
     "output_type": "execute_result"
    }
   ],
   "source": [
    "# print(değişken)\n",
    "\n",
    "3+5*2/28-13\n",
    "3**2\n",
    "3/2\n",
    "3//2\n",
    "5 % 3 # 5'in mod 3'ü, yani 5'in 3 le bölümünde kalanı"
   ]
  },
  {
   "cell_type": "code",
   "execution_count": 20,
   "metadata": {},
   "outputs": [
    {
     "data": {
      "text/plain": [
       "7"
      ]
     },
     "execution_count": 20,
     "metadata": {},
     "output_type": "execute_result"
    }
   ],
   "source": [
    "2.5 \n",
    "1e6\n",
    "1_435_278\n",
    "\"Çift Tırnak metindir.\"\n",
    "'tek tırnak ta aynı anlamdadır.'\n",
    "5e-3\n",
    "5**2 "
   ]
  },
  {
   "cell_type": "markdown",
   "metadata": {},
   "source": [
    "**Kaçış Karakteri**  \n",
    "**escape character**"
   ]
  },
  {
   "cell_type": "code",
   "execution_count": 24,
   "metadata": {},
   "outputs": [
    {
     "data": {
      "text/plain": [
       "'birinci Saıtrikinci Satır'"
      ]
     },
     "execution_count": 24,
     "metadata": {},
     "output_type": "execute_result"
    }
   ],
   "source": [
    "\"Ukrayna'da Savaş\"\n",
    "'Ukrayna\\'da Savaş' \n",
    "'Ali\\'nin bahçesinde sorun \\\n",
    "oluştu'\n",
    "'birinci Satır\\\n",
    "ikinci Satır'"
   ]
  },
  {
   "cell_type": "markdown",
   "metadata": {},
   "source": [
    "**özel karakterler**\n",
    "bunların bir kısmı görünmezdir, mesela satır sonu\n",
    "\\n -> new line\n",
    "\\t -> sekme\n",
    "\\r -> break line"
   ]
  },
  {
   "cell_type": "code",
   "execution_count": 30,
   "metadata": {},
   "outputs": [
    {
     "name": "stdout",
     "output_type": "stream",
     "text": [
      "birinci\t\tsatır\n",
      "nikinci satır\n"
     ]
    }
   ],
   "source": [
    "print('birinci\\t\\tsatır\\nnikinci satır')"
   ]
  },
  {
   "cell_type": "code",
   "execution_count": 38,
   "metadata": {},
   "outputs": [
    {
     "name": "stdout",
     "output_type": "stream",
     "text": [
      "na\\\\ber\\\\ndünya\n"
     ]
    }
   ],
   "source": [
    "'''birinci satır \n",
    "ikinci satır'''\n",
    "\"\"\"üç çift tırnak \n",
    "ta çalışır. \"\"\"\n",
    "\"\"\"üç çift tırnak\\\"\"\" \"\"\"\n",
    "\n",
    "print(r\"na\\\\ber\\ndünya\")"
   ]
  },
  {
   "cell_type": "code",
   "execution_count": 39,
   "metadata": {},
   "outputs": [
    {
     "name": "stdout",
     "output_type": "stream",
     "text": [
      "3\n"
     ]
    }
   ],
   "source": [
    "a = 3\n",
    "print(a)"
   ]
  },
  {
   "cell_type": "code",
   "execution_count": 40,
   "metadata": {},
   "outputs": [
    {
     "ename": "SyntaxError",
     "evalue": "invalid character '✊' (U+270A) (2621725290.py, line 13)",
     "output_type": "error",
     "traceback": [
      "\u001b[0;36m  Input \u001b[0;32mIn [40]\u001b[0;36m\u001b[0m\n\u001b[0;31m    ✊ = 5\u001b[0m\n\u001b[0m    ^\u001b[0m\n\u001b[0;31mSyntaxError\u001b[0m\u001b[0;31m:\u001b[0m invalid character '✊' (U+270A)\n"
     ]
    }
   ],
   "source": [
    "# değişken adları\n",
    "# adları koyarken altçizgi veya harf ile başlanır\n",
    "# altçizgi harf veya rakam ile devam edilir.\n",
    "_  = 2\n",
    "a3 = 3\n",
    "a_3 = 4\n",
    "# değişken adlarında kullanılan yöntemler\n",
    "vergi_hesaplama_2022 = 3 # snake case \n",
    "vergiHesaplama2022 = 3 # camel case\n",
    "# vergi-hesaplama-2022 = kebap case\n",
    "değil = 3\n",
    "\n",
    "✊ = 5\n",
    "\n",
    "print(✊)\n",
    "\n",
    "\n"
   ]
  },
  {
   "cell_type": "code",
   "execution_count": null,
   "metadata": {},
   "outputs": [],
   "source": [
    "ali = 3\n",
    "Ali = 5\n",
    "aLi = 7\n",
    "alİ = 2\n"
   ]
  },
  {
   "cell_type": "code",
   "execution_count": 41,
   "metadata": {},
   "outputs": [
    {
     "name": "stdout",
     "output_type": "stream",
     "text": [
      "<class 'int'> <class 'float'> <class 'str'>\n"
     ]
    }
   ],
   "source": [
    "a = 3 # integer - tamsayı\n",
    "b = 3.3 # float - kesirli sayı\n",
    "c = \"3\" # string - metin\n",
    "print(type(a),type(b),type(c))"
   ]
  },
  {
   "cell_type": "code",
   "execution_count": 43,
   "metadata": {},
   "outputs": [
    {
     "name": "stdout",
     "output_type": "stream",
     "text": [
      "<class 'bool'>\n"
     ]
    }
   ],
   "source": [
    "d = True # boolean - doğru -yanlış \n",
    "print(type(d))"
   ]
  },
  {
   "cell_type": "code",
   "execution_count": 45,
   "metadata": {},
   "outputs": [
    {
     "data": {
      "text/plain": [
       "7"
      ]
     },
     "execution_count": 45,
     "metadata": {},
     "output_type": "execute_result"
    }
   ],
   "source": [
    "a = 3; b = 5 ;\n",
    "a = \\\n",
    "7\n",
    "a"
   ]
  },
  {
   "cell_type": "code",
   "execution_count": 48,
   "metadata": {},
   "outputs": [
    {
     "name": "stdout",
     "output_type": "stream",
     "text": [
      "merhaba\n",
      "merhaba\n"
     ]
    }
   ],
   "source": [
    " print(\"merhaba\")\n",
    " print(\"merhaba\")\n"
   ]
  },
  {
   "cell_type": "code",
   "execution_count": 54,
   "metadata": {},
   "outputs": [
    {
     "name": "stdout",
     "output_type": "stream",
     "text": [
      "Vize'den Aldığınız Not:  60\n",
      "Final için almanız gereken not:  44\n"
     ]
    }
   ],
   "source": [
    "\n",
    "import math\n",
    "\n",
    "vize = 30\n",
    "\n",
    "print(\"Vize'den Aldığınız Not: \",vize)\n",
    "# 50 = final*0.6 + vize*0.4\n",
    "final = (50-vize*0.4) / 0.6\n",
    "\n",
    "print(\"Final için almanız gereken not: \" , math.ceil(final))\n",
    "\n"
   ]
  },
  {
   "cell_type": "code",
   "execution_count": 56,
   "metadata": {},
   "outputs": [
    {
     "name": "stdout",
     "output_type": "stream",
     "text": [
      "Satış fiyatı:  330  TL olan ürünün KDV'si:  50.338983050847446  TL'dir.\n"
     ]
    }
   ],
   "source": [
    "satış_fiyatı = 330\n",
    "# içindeki %18'lik KDV'yi bulun.\n",
    "kdv = satış_fiyatı - satış_fiyatı/1.18\n",
    "print(\"Satış fiyatı: \" , satış_fiyatı,\n",
    " \" TL olan ürünün KDV'si: \" , kdv, \" TL'dir.\")\n"
   ]
  },
  {
   "cell_type": "code",
   "execution_count": 57,
   "metadata": {},
   "outputs": [
    {
     "name": "stdout",
     "output_type": "stream",
     "text": [
      "Denklemi:  4x^2 - 10x + 5 = 0  olan denklemin discriminantı  20  tır.\n"
     ]
    }
   ],
   "source": [
    "problem = \"4x^2 - 10x + 5 = 0\"\n",
    "# discriminantını bulunuz.\n",
    "diskriminant = (-10)**2 - 4*4*5\n",
    "print(\"Denklemi: \",problem, \" olan denklemin discriminantı \",\n",
    "diskriminant ,\" tır.\")\n"
   ]
  },
  {
   "cell_type": "code",
   "execution_count": 58,
   "metadata": {},
   "outputs": [
    {
     "name": "stdout",
     "output_type": "stream",
     "text": [
      "Yükseklik:  190.76540350000002\n"
     ]
    }
   ],
   "source": [
    "# Yer çekimi ivmesi = 9.83m/sn^2 ise\n",
    "# Aşağıdan atılmış ve en yüksek noktasına 6.23sn de ulaşmıştır.\n",
    "# ulaştığı yükseklik nedir?\n",
    "# h = 1/2 * g * t^2\n",
    "g = 9.83\n",
    "t = 6.23\n",
    "print(\"Yükseklik: \" , 0.5 * g * t**2)"
   ]
  },
  {
   "cell_type": "code",
   "execution_count": 60,
   "metadata": {},
   "outputs": [
    {
     "name": "stdout",
     "output_type": "stream",
     "text": [
      "Yüzey alanı: 176.71458676442586  cm^2\n",
      "Hacmi: 196.34954084936209 cm^3\n"
     ]
    }
   ],
   "source": [
    "# yüksekliği 10cm olan silindirin\n",
    "# çapı 5cm'dir\n",
    "# yüzey alanını ve hacmini hesaplayınız:\n",
    "h = 10\n",
    "D = 5  # Diameter - çap\n",
    "pi = math.pi\n",
    "\n",
    "print(\"Yüzey alanı:\" , pi*(D/2)**2 + pi*D*h ,\" cm^2\")\n",
    "print(\"Hacmi:\" , pi*(D/2)**2 *h ,\"cm^3\")"
   ]
  }
 ],
 "metadata": {
  "interpreter": {
   "hash": "e7370f93d1d0cde622a1f8e1c04877d8463912d04d973331ad4851f04de6915a"
  },
  "kernelspec": {
   "display_name": "Python 3.10.2 64-bit",
   "language": "python",
   "name": "python3"
  },
  "language_info": {
   "codemirror_mode": {
    "name": "ipython",
    "version": 3
   },
   "file_extension": ".py",
   "mimetype": "text/x-python",
   "name": "python",
   "nbconvert_exporter": "python",
   "pygments_lexer": "ipython3",
   "version": "3.10.2"
  },
  "orig_nbformat": 4
 },
 "nbformat": 4,
 "nbformat_minor": 2
}
