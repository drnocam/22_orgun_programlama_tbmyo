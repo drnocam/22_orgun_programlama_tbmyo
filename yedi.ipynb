{
 "cells": [
  {
   "cell_type": "code",
   "execution_count": 5,
   "metadata": {},
   "outputs": [
    {
     "name": "stdout",
     "output_type": "stream",
     "text": [
      "[1, 9, 3]\n"
     ]
    }
   ],
   "source": [
    "# liste = 1,2,5,7\n",
    "# liste = (1,2,5,7)\n",
    "# del liste[1]\n",
    "# type(liste)\n",
    "# liste = [1,9,5,3]\n",
    "# metin = \"1953\"\n",
    "# del liste[2]\n",
    "# print( liste )"
   ]
  },
  {
   "cell_type": "code",
   "execution_count": 9,
   "metadata": {},
   "outputs": [
    {
     "name": "stdout",
     "output_type": "stream",
     "text": [
      "[1, 3, 5, 9]\n"
     ]
    }
   ],
   "source": [
    "a = [9,5,3,1]\n",
    "# a.sort()\n",
    "a = sorted(a)\n",
    "print(a)"
   ]
  },
  {
   "cell_type": "code",
   "execution_count": 18,
   "metadata": {},
   "outputs": [
    {
     "data": {
      "text/plain": [
       "[1, 5, 19, 23]"
      ]
     },
     "execution_count": 18,
     "metadata": {},
     "output_type": "execute_result"
    }
   ],
   "source": [
    "a = [19,5,23,1]\n",
    "def swap(i1,i2,liste):\n",
    "    x = liste[i1]\n",
    "    liste[i1] = liste[i2]\n",
    "    liste[i2] = x\n",
    "\n",
    "for x in range(len(a)):\n",
    "    for i in range(len(a)-1):\n",
    "        if(a[i]>a[i+1]):\n",
    "            swap(i,i+1,a)\n",
    "\n",
    "a"
   ]
  },
  {
   "cell_type": "code",
   "execution_count": 21,
   "metadata": {},
   "outputs": [
    {
     "data": {
      "text/plain": [
       "[23, 19, 5, 1]"
      ]
     },
     "execution_count": 21,
     "metadata": {},
     "output_type": "execute_result"
    }
   ],
   "source": [
    "a = [19,5,23,1]\n",
    "a.sort(reverse=True)\n",
    "a"
   ]
  },
  {
   "cell_type": "code",
   "execution_count": 29,
   "metadata": {},
   "outputs": [
    {
     "name": "stdout",
     "output_type": "stream",
     "text": [
      "mraa"
     ]
    }
   ],
   "source": [
    "a = \"merhaba\"\n",
    "# range ( start , stop  , step )\n",
    "a[0::2]\n",
    "for i in range(0,len(a),2):\n",
    "    print(a[i],end=\"\")\n"
   ]
  },
  {
   "cell_type": "code",
   "execution_count": 34,
   "metadata": {},
   "outputs": [
    {
     "name": "stdout",
     "output_type": "stream",
     "text": [
      "[3, 2, 4] [3, 2, 1]\n"
     ]
    }
   ],
   "source": [
    "a = [ 3 , 2 , 1]\n",
    "b = a  # referans kopya b değişirse a'da değişir.\n",
    "b = a[:] # deep copy , tamamen ayrı iki değişken oldular.\n",
    "b[2] = 4\n",
    "print(b,a)"
   ]
  },
  {
   "cell_type": "code",
   "execution_count": 38,
   "metadata": {},
   "outputs": [
    {
     "name": "stdout",
     "output_type": "stream",
     "text": [
      "[0, 1, 2, 3, 4, 5, 6, 7, 8, 9, 10, 11, 12, 13, 14, 15, 16, 17, 18, 19, 20, 21, 22, 23, 24, 25, 26, 27, 28, 29, 30, 31, 32, 33, 34, 35, 36, 37, 38, 39, 40, 41, 42, 43, 44, 45, 46, 47, 48, 49, 50, 51, 52, 53, 54, 55, 56, 57, 58, 59, 60, 61, 62, 63, 64, 65, 66, 67, 68, 69, 70, 71, 72, 73, 74, 75, 76, 77, 78, 79, 80, 81, 82, 83, 84, 85, 86, 87, 88, 89, 90, 91, 92, 93, 94, 95, 96, 97, 98, 99]\n"
     ]
    }
   ],
   "source": [
    "x = []\n",
    "for i in range(100):\n",
    "    x.append(i)\n",
    "print(x)"
   ]
  },
  {
   "cell_type": "code",
   "execution_count": 39,
   "metadata": {},
   "outputs": [
    {
     "name": "stdout",
     "output_type": "stream",
     "text": [
      "[0, 1, 2, 3, 4, 5, 6, 7, 8, 9, 10, 11, 12, 13, 14, 15, 16, 17, 18, 19, 20, 21, 22, 23, 24, 25, 26, 27, 28, 29, 30, 31, 32, 33, 34, 35, 36, 37, 38, 39, 40, 41, 42, 43, 44, 45, 46, 47, 48, 49, 50, 51, 52, 53, 54, 55, 56, 57, 58, 59, 60, 61, 62, 63, 64, 65, 66, 67, 68, 69, 70, 71, 72, 73, 74, 75, 76, 77, 78, 79, 80, 81, 82, 83, 84, 85, 86, 87, 88, 89, 90, 91, 92, 93, 94, 95, 96, 97, 98, 99]\n"
     ]
    }
   ],
   "source": [
    "y = [i for i in range(100)]\n",
    "print(y)"
   ]
  },
  {
   "cell_type": "code",
   "execution_count": null,
   "metadata": {},
   "outputs": [],
   "source": [
    "a = [\n",
    "    [1,2,3],\n",
    "    [1,2,3],\n",
    "    [1,2,3],\n",
    "]"
   ]
  },
  {
   "cell_type": "code",
   "execution_count": null,
   "metadata": {},
   "outputs": [],
   "source": [
    "a = [ 5 , 4 , 3]\n",
    "a[1]"
   ]
  },
  {
   "cell_type": "code",
   "execution_count": 42,
   "metadata": {},
   "outputs": [
    {
     "data": {
      "text/plain": [
       "3"
      ]
     },
     "execution_count": 42,
     "metadata": {},
     "output_type": "execute_result"
    }
   ],
   "source": [
    "#dictionary - sözlük tipi değişken.\n",
    "# anahtar : değer \n",
    "a = { 0:5 , 1:4 , \"merhaba\":3}\n",
    "a[\"merhaba\"]"
   ]
  },
  {
   "cell_type": "code",
   "execution_count": 44,
   "metadata": {},
   "outputs": [
    {
     "name": "stdout",
     "output_type": "stream",
     "text": [
      "ömer\n"
     ]
    }
   ],
   "source": [
    "# xml -  JSON\n",
    "öğrenci = {\n",
    "    2021:{\n",
    "        \"dönem 1\" : {\n",
    "            \"Matematik\" : { \"vize\" : 50, \"final\":30 },\n",
    "            \"Fizik\" : { \"vize\" : 80, \"final\":90,\"hoca\":[\"ömer\",\"ali\"] },\n",
    "        },\n",
    "        \"dönem 2\" : {\n",
    "            \"Matematik 2\" : { \"vize\" : 50, \"final\":30 },\n",
    "            \"Fizik 2\" : { \"vize\" : 80, \"final\":90 },\n",
    "        },\n",
    "    }\n",
    "}\n",
    "print( öğrenci[2021][\"dönem 1\"][\"Fizik\"][\"hoca\"][0]  )"
   ]
  }
 ],
 "metadata": {
  "interpreter": {
   "hash": "e7370f93d1d0cde622a1f8e1c04877d8463912d04d973331ad4851f04de6915a"
  },
  "kernelspec": {
   "display_name": "Python 3.10.4 64-bit",
   "language": "python",
   "name": "python3"
  },
  "language_info": {
   "codemirror_mode": {
    "name": "ipython",
    "version": 3
   },
   "file_extension": ".py",
   "mimetype": "text/x-python",
   "name": "python",
   "nbconvert_exporter": "python",
   "pygments_lexer": "ipython3",
   "version": "3.10.4"
  },
  "orig_nbformat": 4
 },
 "nbformat": 4,
 "nbformat_minor": 2
}
