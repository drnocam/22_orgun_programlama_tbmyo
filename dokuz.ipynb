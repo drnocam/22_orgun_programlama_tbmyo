{
 "cells": [
  {
   "cell_type": "code",
   "execution_count": null,
   "metadata": {},
   "outputs": [],
   "source": []
  },
  {
   "cell_type": "markdown",
   "metadata": {},
   "source": [
    "# başlı\n",
    "## 2.derece başlık\n",
    "_fasdf_ \n",
    "**dsfa** \n",
    "* sdafdsaf\n",
    "* fadsfa\n",
    "> alıntı\n",
    "\n",
    "kurtuluş"
   ]
  }
 ],
 "metadata": {
  "language_info": {
   "name": "python"
  },
  "orig_nbformat": 4
 },
 "nbformat": 4,
 "nbformat_minor": 2
}
