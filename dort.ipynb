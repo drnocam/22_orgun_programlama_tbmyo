{
 "cells": [
  {
   "cell_type": "code",
   "execution_count": null,
   "metadata": {},
   "outputs": [],
   "source": [
    "a = 3\n",
    "b = 2\n",
    "if (a > b ) :\n",
    "    pass\n",
    "else :\n",
    "    pass\n",
    "\n",
    "while (a>b) :\n",
    "    break"
   ]
  },
  {
   "cell_type": "code",
   "execution_count": null,
   "metadata": {},
   "outputs": [],
   "source": [
    "# \n",
    "##\n",
    "###\n",
    "####\n",
    "#####"
   ]
  },
  {
   "cell_type": "code",
   "execution_count": 4,
   "metadata": {},
   "outputs": [
    {
     "name": "stdout",
     "output_type": "stream",
     "text": [
      "#\n",
      "##\n",
      "###\n",
      "####\n",
      "#####\n"
     ]
    }
   ],
   "source": [
    "i = 1\n",
    "while ( i < 6) :\n",
    "    print(\"#\" * i)\n",
    "    i += 1"
   ]
  },
  {
   "cell_type": "code",
   "execution_count": null,
   "metadata": {},
   "outputs": [],
   "source": [
    "#####\n",
    "####\n",
    "###\n",
    "##\n",
    "#"
   ]
  },
  {
   "cell_type": "code",
   "execution_count": 18,
   "metadata": {},
   "outputs": [
    {
     "name": "stdout",
     "output_type": "stream",
     "text": [
      "#####\n",
      "####\n",
      "###\n",
      "##\n",
      "#\n"
     ]
    }
   ],
   "source": [
    "baslangic = 1\n",
    "bitis = 5\n",
    "artirma = 1\n",
    "\n",
    "index = baslangic\n",
    "while ( index < bitis+1) :\n",
    "    print((bitis + 1 -index)*\"#\")\n",
    "    index += artirma"
   ]
  },
  {
   "cell_type": "code",
   "execution_count": 26,
   "metadata": {},
   "outputs": [
    {
     "name": "stdout",
     "output_type": "stream",
     "text": [
      "#\n",
      "##\n",
      "###\n",
      "####\n",
      "#####\n",
      "####\n",
      "###\n",
      "##\n",
      "#\n"
     ]
    }
   ],
   "source": [
    "bitis = 9\n",
    "i = 0\n",
    "while (i<bitis) :\n",
    "    i+=1\n",
    "    if(i>5) :\n",
    "        print( (bitis +1 - i) * \"#\" )\n",
    "    else :\n",
    "        print( i * \"#\")"
   ]
  },
  {
   "cell_type": "markdown",
   "metadata": {},
   "source": [
    "1-\n",
    "1-2-\n",
    "1-2-3-\n",
    "1-2-3-4-\n",
    "1-2-3-4-5-"
   ]
  },
  {
   "cell_type": "code",
   "execution_count": 35,
   "metadata": {},
   "outputs": [
    {
     "name": "stdout",
     "output_type": "stream",
     "text": [
      "1-\n",
      "1-2-\n",
      "1-2-3-\n",
      "1-2-3-4-\n",
      "1-2-3-4-5-\n"
     ]
    }
   ],
   "source": [
    "i = 1\n",
    "while(i<6) :\n",
    "    ic_i = 1\n",
    "    while (ic_i<i+1) :\n",
    "        print(ic_i ,  end=\"-\")\n",
    "        ic_i += 1\n",
    "    print(\"\")\n",
    "    i+=1"
   ]
  },
  {
   "cell_type": "markdown",
   "metadata": {},
   "source": [
    "## for döngüsü - loop"
   ]
  },
  {
   "cell_type": "code",
   "execution_count": 42,
   "metadata": {},
   "outputs": [
    {
     "name": "stdout",
     "output_type": "stream",
     "text": [
      "3\n",
      "5\n",
      "7\n",
      "9\n",
      "3\n",
      "5\n",
      "7\n",
      "9\n"
     ]
    }
   ],
   "source": [
    "for index in range(3,10,2) :\n",
    "    print(index)\n",
    "index = 3\n",
    "while(index<10) :\n",
    "    print(index)\n",
    "    index += 2"
   ]
  },
  {
   "cell_type": "code",
   "execution_count": 58,
   "metadata": {},
   "outputs": [
    {
     "name": "stdout",
     "output_type": "stream",
     "text": [
      "1.2829668521881104  sn sürdü.\n",
      "for döngüsü While döngüsünden 0.04429483413696289  sn hızlıdır.\n"
     ]
    }
   ],
   "source": [
    "# benchmark - karşılaştırma\n",
    "import time\n",
    "import math\n",
    "\n",
    "fark = 0\n",
    "baslama_zamani = time.time()\n",
    "for i in range(1,1_000_000) :\n",
    "    hesap = math.sin(i) + math.sqrt(i)\\\n",
    "        + math.log(i) \\\n",
    "        + i**30\n",
    "fark = time.time() - baslama_zamani\n",
    "baslama_zamani = time.time()\n",
    "i = 1\n",
    "while ( i < 1_000_000):\n",
    "    hesap = math.sin(i) + math.sqrt(i)\\\n",
    "        + math.log(i) \\\n",
    "        + i**30\n",
    "    i += 1\n",
    "bitis_zamani = time.time()\n",
    "\n",
    "print(bitis_zamani - baslama_zamani , \" sn sürdü.\")\n",
    "\n",
    "print(\"for döngüsü While döngüsünden\" , \n",
    "(bitis_zamani-baslama_zamani) - fark,\" sn hızlıdır.\")"
   ]
  },
  {
   "cell_type": "markdown",
   "metadata": {},
   "source": [
    "# continue \n",
    "\n"
   ]
  },
  {
   "cell_type": "code",
   "execution_count": 63,
   "metadata": {},
   "outputs": [
    {
     "name": "stdout",
     "output_type": "stream",
     "text": [
      "0\n",
      "10\n",
      "20\n",
      "30\n",
      "40\n",
      "50\n",
      "60\n",
      "70\n",
      "80\n",
      "90\n"
     ]
    }
   ],
   "source": [
    "for i in range ( 100 ):\n",
    "    if( i%10 != 0) :\n",
    "        continue\n",
    "    print(i)"
   ]
  },
  {
   "cell_type": "code",
   "execution_count": 67,
   "metadata": {},
   "outputs": [
    {
     "name": "stdout",
     "output_type": "stream",
     "text": [
      "bu metinde 14 adet a harfi var.\n"
     ]
    }
   ],
   "source": [
    "metin = \"\"\"\n",
    "buraya kafanıza göre uzunca bir metin \n",
    "yazın ve sonra buradaki a harflerini \n",
    "saydırın. A?\n",
    "\"\"\"\n",
    "sayi = 0 \n",
    "for karakter in metin :\n",
    "    if ( karakter == \"a\" or karakter == \"A\") :\n",
    "        sayi += 1\n",
    "\n",
    "print(f\"bu metinde {sayi} adet a harfi var.\")\n"
   ]
  },
  {
   "cell_type": "code",
   "execution_count": 69,
   "metadata": {},
   "outputs": [
    {
     "name": "stdout",
     "output_type": "stream",
     "text": [
      "70\n"
     ]
    }
   ],
   "source": [
    "# 1'den 20'ye kadar 3'er 3'er saydırın ve toplam\n",
    "# rakamı yazdırın.\n",
    "toplam = 0\n",
    "for i in range(1,20,3) :\n",
    "    toplam += i\n",
    "\n",
    "print(toplam)"
   ]
  },
  {
   "cell_type": "code",
   "execution_count": 73,
   "metadata": {},
   "outputs": [
    {
     "name": "stdout",
     "output_type": "stream",
     "text": [
      "2\n",
      "3\n",
      "5\n",
      "7\n",
      "11\n",
      "13\n",
      "17\n",
      "19\n"
     ]
    }
   ],
   "source": [
    "# 1'den 20'e kadar asal sayıları yazdırın. 2 dahil!\n",
    "for i in range(2,20) :\n",
    "    asal = True\n",
    "    for x in range(2,i) :\n",
    "        if(i%x==0) :\n",
    "            asal = False\n",
    "            break\n",
    "    if(asal) : \n",
    "        print(i)"
   ]
  },
  {
   "cell_type": "code",
   "execution_count": 80,
   "metadata": {},
   "outputs": [
    {
     "name": "stdout",
     "output_type": "stream",
     "text": [
      "2! = 2\n",
      "3! = 6\n",
      "4! = 24\n",
      "5! = 120\n",
      "6! = 720\n",
      "7! = 5040\n"
     ]
    }
   ],
   "source": [
    "# faktoriyel hesabını yapınız.\n",
    "# 5! = ? 5*4*3*2*1\n",
    "sayi = 7\n",
    "sonuc = 1\n",
    "for i in range(2,sayi+1) :\n",
    "    sonuc *= i\n",
    "    print(f\"{i}! = {sonuc}\")"
   ]
  }
 ],
 "metadata": {
  "interpreter": {
   "hash": "e7370f93d1d0cde622a1f8e1c04877d8463912d04d973331ad4851f04de6915a"
  },
  "kernelspec": {
   "display_name": "Python 3.10.2 64-bit",
   "language": "python",
   "name": "python3"
  },
  "language_info": {
   "codemirror_mode": {
    "name": "ipython",
    "version": 3
   },
   "file_extension": ".py",
   "mimetype": "text/x-python",
   "name": "python",
   "nbconvert_exporter": "python",
   "pygments_lexer": "ipython3",
   "version": "3.10.3"
  },
  "orig_nbformat": 4
 },
 "nbformat": 4,
 "nbformat_minor": 2
}
