{
 "cells": [
  {
   "cell_type": "code",
   "execution_count": 2,
   "metadata": {},
   "outputs": [
    {
     "name": "stdout",
     "output_type": "stream",
     "text": [
      "3.0\n"
     ]
    }
   ],
   "source": [
    "# + - *  / // ** % \n",
    "a = 3\n",
    "a = a + 1\n",
    "# a ++; ++a;\n",
    "a += 3\n",
    "a *= 2\n",
    "a /= 3\n",
    "a %= 5\n",
    "a //= 2\n",
    "a **=3 # a = a**3\n",
    "a -= 5\n",
    "print( a );"
   ]
  },
  {
   "cell_type": "code",
   "execution_count": 3,
   "metadata": {},
   "outputs": [
    {
     "name": "stdout",
     "output_type": "stream",
     "text": [
      "210\n"
     ]
    }
   ],
   "source": [
    "print( 2 * 3 * 5 * 7 )\n"
   ]
  },
  {
   "cell_type": "code",
   "execution_count": 7,
   "metadata": {},
   "outputs": [
    {
     "name": "stdout",
     "output_type": "stream",
     "text": [
      "Vize'den Aldığınız Not:  30\n",
      "Final için almanız gereken not:  64\n"
     ]
    }
   ],
   "source": [
    "import math\n",
    "vize = 30\n",
    "print(\"Vize'den Aldığınız Not: \",vize)\n",
    "# 50 = final*0.6 + vize*0.4\n",
    "final = (50-vize*0.4) / 0.6\n",
    "if ( final < 50 ) :\n",
    "    final = 50 \n",
    "print(\"Final için almanız gereken not: \" , math.ceil(final))\n"
   ]
  },
  {
   "cell_type": "code",
   "execution_count": 8,
   "metadata": {},
   "outputs": [
    {
     "name": "stdout",
     "output_type": "stream",
     "text": [
      "eşit değildirler\n"
     ]
    }
   ],
   "source": [
    "a = 3\n",
    "b = \"3\"\n",
    "if( a == b) : # tek eşittir atama operatörüdür. \n",
    "    print( \"a ve b değerleri birbirine eşittir.\")\n",
    "else :\n",
    "    print(\"eşit değildirler\")"
   ]
  },
  {
   "cell_type": "code",
   "execution_count": 9,
   "metadata": {},
   "outputs": [
    {
     "name": "stdout",
     "output_type": "stream",
     "text": [
      "Program sonlandı.\n"
     ]
    }
   ],
   "source": [
    "# girinti konusu.\n",
    "a = 3\n",
    "b = 2\n",
    "if( a == b) :\n",
    "    pass\n",
    "print(\"olmaz...\")\n",
    "print(\"deneme\")\n",
    "print(\"son söz\")\n",
    "print(\"Program sonlandı.\")\n",
    "\n"
   ]
  },
  {
   "cell_type": "code",
   "execution_count": 12,
   "metadata": {},
   "outputs": [
    {
     "name": "stdout",
     "output_type": "stream",
     "text": [
      " a b'den küçük\n"
     ]
    }
   ],
   "source": [
    "a = 2 \n",
    "b = 3\n",
    "if(a < b) :\n",
    "    print(\" a b'den küçük\")\n",
    "# if( a > b) :\n",
    "elif( a > b) :\n",
    "    print(\"a b'den büyük\")\n",
    "# if ( a == b ) :\n",
    "else :\n",
    "    print(\"a ve b eşit\")"
   ]
  },
  {
   "cell_type": "code",
   "execution_count": 14,
   "metadata": {},
   "outputs": [
    {
     "name": "stdout",
     "output_type": "stream",
     "text": [
      "Çift\n"
     ]
    }
   ],
   "source": [
    "# tek mi çift mi?\n",
    "x = 6\n",
    "\n",
    "if( x % 2 == 0) :\n",
    "    print(\"Çift\")\n",
    "else :\n",
    "    print(\"Tek\")"
   ]
  },
  {
   "cell_type": "code",
   "execution_count": 19,
   "metadata": {},
   "outputs": [
    {
     "name": "stdout",
     "output_type": "stream",
     "text": [
      "Yanlıştır.\n"
     ]
    }
   ],
   "source": [
    "x = 6\n",
    "# True = 1, False = 0\n",
    "if( 0 ):\n",
    "    print(\"Doğrudur.\")\n",
    "else :\n",
    "    print(\"Yanlıştır.\")\n",
    "# if( x % 2 ) :\n",
    "#     print(\"Çift\")\n",
    "# else :\n",
    "#     print(\"Tek\")"
   ]
  },
  {
   "cell_type": "code",
   "execution_count": 21,
   "metadata": {},
   "outputs": [
    {
     "name": "stdout",
     "output_type": "stream",
     "text": [
      "Çalışmaz.\n"
     ]
    }
   ],
   "source": [
    "x = 5\n",
    "if ( x % 2  ) :\n",
    "    print(\"Tek\")\n",
    "else :\n",
    "    print(\"çift\")"
   ]
  },
  {
   "cell_type": "code",
   "execution_count": 22,
   "metadata": {},
   "outputs": [
    {
     "name": "stdout",
     "output_type": "stream",
     "text": [
      "Çalışır.\n"
     ]
    }
   ],
   "source": [
    "if ( False == False ) :\n",
    "    print(\"Çalışır.\")"
   ]
  },
  {
   "cell_type": "markdown",
   "metadata": {},
   "source": [
    "* == eşittir\n",
    "* != eşit değil şartı <>\n",
    "* < küçüktür\n",
    "* \\> büyüktür\n",
    "* <= küçük eşittir\n",
    "* \\>= büyük eşittir."
   ]
  },
  {
   "cell_type": "code",
   "execution_count": null,
   "metadata": {},
   "outputs": [],
   "source": [
    "# sorgular arasında and veya or kullanılır."
   ]
  },
  {
   "cell_type": "code",
   "execution_count": 23,
   "metadata": {},
   "outputs": [
    {
     "name": "stdout",
     "output_type": "stream",
     "text": [
      "1\n",
      "dfa\n",
      "d\n",
      "3\n",
      "4\n",
      "6\n"
     ]
    }
   ],
   "source": [
    "# iç içe ifler...\n",
    "a = 1\n",
    "b = c = 2\n",
    "d = 3\n",
    "if( a < b ) :\n",
    "    print(\"1\")\n",
    "    if(2) :\n",
    "        print(\"dfa\")\n",
    "    if(b < c ) :\n",
    "        print(\"2\")\n",
    "    else:\n",
    "        if(d > a ) :\n",
    "            print(\"d\")\n",
    "        elif (d == a) :\n",
    "            print(\"eşit\")\n",
    "        print(\"3\")\n",
    "    print(\"4\")\n",
    "else:\n",
    "    print(\"5\")\n",
    "print(\"6\")"
   ]
  },
  {
   "cell_type": "code",
   "execution_count": 24,
   "metadata": {},
   "outputs": [
    {
     "name": "stdout",
     "output_type": "stream",
     "text": [
      "tek\n"
     ]
    }
   ],
   "source": [
    "a = 5\n",
    "\n",
    "# switch\n",
    "match (a % 2) :\n",
    "    case 1 :\n",
    "        print(\"tek\")\n",
    "    case 0 :\n",
    "        print(\"çift\")"
   ]
  },
  {
   "cell_type": "code",
   "execution_count": 43,
   "metadata": {},
   "outputs": [
    {
     "name": "stdout",
     "output_type": "stream",
     "text": [
      "Tebrikler sayıyı buldunuz.\n",
      "7\n"
     ]
    }
   ],
   "source": [
    "import random\n",
    "rastgele_sayi = random.randrange(0,10)\n",
    "x = int ( input(\"1-10 arası sayı gir: \") )\n",
    "if(x == rastgele_sayi) :\n",
    "    print(\"Tebrikler sayıyı buldunuz.\")\n",
    "elif(x < rastgele_sayi) :\n",
    "    print(\"daha düşük bir sayı girdiniz.\")\n",
    "else :\n",
    "    print(\"daha büyük sayı girdiniz.\")\n",
    "print(rastgele_sayi)"
   ]
  },
  {
   "cell_type": "code",
   "execution_count": null,
   "metadata": {},
   "outputs": [],
   "source": [
    "# and  &&   \n",
    "# or  || \n"
   ]
  },
  {
   "cell_type": "markdown",
   "metadata": {},
   "source": [
    "## Döngüler - Loop"
   ]
  },
  {
   "cell_type": "code",
   "execution_count": 51,
   "metadata": {},
   "outputs": [
    {
     "name": "stdout",
     "output_type": "stream",
     "text": [
      "2-5-11-"
     ]
    }
   ],
   "source": [
    "# while - for\n",
    "\n",
    "x = 2\n",
    "while ( x <=  20 ) :\n",
    "    print(x , end=\"-\")\n",
    "    x = 2*x+1\n",
    "    break\n",
    "\n"
   ]
  },
  {
   "cell_type": "code",
   "execution_count": 52,
   "metadata": {},
   "outputs": [
    {
     "name": "stdout",
     "output_type": "stream",
     "text": [
      "3\n",
      "4\n",
      "5\n"
     ]
    }
   ],
   "source": [
    "a = 3\n",
    "while(True) :\n",
    "    print(a)\n",
    "    a+=1\n",
    "    if(a>5) :\n",
    "        break"
   ]
  },
  {
   "cell_type": "code",
   "execution_count": 53,
   "metadata": {},
   "outputs": [
    {
     "name": "stdout",
     "output_type": "stream",
     "text": [
      "daha düşük bir sayı girdiniz.\n",
      "daha düşük bir sayı girdiniz.\n",
      "daha düşük bir sayı girdiniz.\n",
      "Tebrikler sayıyı buldunuz.\n",
      "7\n"
     ]
    }
   ],
   "source": [
    "rastgele_sayi = random.randrange(0,10)\n",
    "while(True) :\n",
    "    x = int ( input(\"1-10 arası sayı gir: \") )\n",
    "    if(x == rastgele_sayi) :\n",
    "        print(\"Tebrikler sayıyı buldunuz.\")\n",
    "        break\n",
    "    elif(x < rastgele_sayi) :\n",
    "        print(\"daha düşük bir sayı girdiniz.\")\n",
    "    else :\n",
    "        print(\"daha büyük sayı girdiniz.\")\n",
    "print(rastgele_sayi)"
   ]
  }
 ],
 "metadata": {
  "interpreter": {
   "hash": "e7370f93d1d0cde622a1f8e1c04877d8463912d04d973331ad4851f04de6915a"
  },
  "kernelspec": {
   "display_name": "Python 3.10.2 64-bit",
   "language": "python",
   "name": "python3"
  },
  "language_info": {
   "codemirror_mode": {
    "name": "ipython",
    "version": 3
   },
   "file_extension": ".py",
   "mimetype": "text/x-python",
   "name": "python",
   "nbconvert_exporter": "python",
   "pygments_lexer": "ipython3",
   "version": "3.10.2"
  },
  "orig_nbformat": 4
 },
 "nbformat": 4,
 "nbformat_minor": 2
}
