{
 "cells": [
  {
   "cell_type": "code",
   "execution_count": 10,
   "metadata": {},
   "outputs": [
    {
     "name": "stdout",
     "output_type": "stream",
     "text": [
      "pi= 3.141592653589793\n",
      "pi= 3.141592653589793\n",
      "merhaba dünya\n"
     ]
    }
   ],
   "source": [
    "# format string - metin biçimlendirme\n",
    "import math\n",
    "\n",
    "print(f\"pi= {math.pi}\")\n",
    "print(\"pi= \" + str(math.pi) )\n",
    "a = \"merhaba\" +  \" dünya\"\n",
    "print(a)"
   ]
  },
  {
   "cell_type": "code",
   "execution_count": 25,
   "metadata": {},
   "outputs": [
    {
     "name": "stdout",
     "output_type": "stream",
     "text": [
      "NABER\n",
      "yaşı 3.14\n"
     ]
    }
   ],
   "source": [
    "yas = 30\n",
    "boy = 1.60\n",
    "kilo = 70\n",
    "# yaşı 30 olan gencin boyu 160 cm\n",
    "# beden kütle endeksi hesaplanabilir\n",
    "# bmi = ağırlık / boy^2\n",
    "a = \"naber\"\n",
    "print( a.upper()  )\n",
    "\n",
    "bicimli_metin = \"yaşı {2},{3},{2},{0:.2f} olan\".format(math.pi,yas,boy,kilo)\n",
    "bicimli_metin = \"yaşı {2},{1},{2},{pi},{{pi}} olan\".format(yas,boy,kilo,pi=math.pi)\n",
    "bicimli_metin = \"yaşı {pi:.2f}\".format(pi=math.pi)\n",
    "\n",
    "print(bicimli_metin)\n"
   ]
  },
  {
   "cell_type": "code",
   "execution_count": 39,
   "metadata": {},
   "outputs": [
    {
     "name": "stdout",
     "output_type": "stream",
     "text": [
      "*****5*****\n",
      "       5555\n",
      "          5\n",
      "        198\n"
     ]
    }
   ],
   "source": [
    "metin = \"{0:*^11}\".format(\"5\")\n",
    "metin1 = \"{0: >11}\".format(\"5555\")\n",
    "metin2 = \"{0: >11}\".format(\"5\")\n",
    "sayi = 198\n",
    "print(metin)\n",
    "print(metin1)\n",
    "print(metin2)\n",
    "print(f\"{sayi: >11}\")"
   ]
  },
  {
   "cell_type": "code",
   "execution_count": 42,
   "metadata": {},
   "outputs": [
    {
     "name": "stdout",
     "output_type": "stream",
     "text": [
      "Boyu 1.6 m. ve kilosu 70kg.    olan birinin beden kütle endeksi = 27.34\n",
      "Boyu 1.6 m. ve kilosu 70kg.    olan birinin beden kütle endeksi = 27.34\n"
     ]
    }
   ],
   "source": [
    "boy = 1.60\n",
    "kilo = 70\n",
    "\n",
    "print(f\"Boyu {boy} m. ve kilosu {kilo}kg.\\\n",
    "    olan birinin beden kütle endeksi = {kilo/(boy*boy):.2f}\")\n",
    "print(\"Boyu {} m. ve kilosu {}kg.\\\n",
    "    olan birinin beden kütle endeksi = {:.2f}\".format(\n",
    "boy,kilo,kilo/(boy*boy)\n",
    "    ))"
   ]
  },
  {
   "cell_type": "markdown",
   "metadata": {},
   "source": [
    "## Fonksiyonlar - Functions"
   ]
  },
  {
   "cell_type": "code",
   "execution_count": 46,
   "metadata": {},
   "outputs": [
    {
     "name": "stdout",
     "output_type": "stream",
     "text": [
      "1.6m.,70kg. bmi =27.0\n",
      "1.8m.,80kg. bmi =24.0\n",
      "1.73m.,65kg. bmi =21.0\n"
     ]
    }
   ],
   "source": [
    "# DRY - ( Dont Repeat Yourself )\n",
    "\n",
    "boy = 1.60\n",
    "kilo = 70\n",
    "bmi = kilo // boy**2\n",
    "print( f\"{boy}m.,{kilo}kg. bmi ={bmi}\")\n",
    "\n",
    "boy = 1.80\n",
    "kilo = 80\n",
    "bmi = kilo // boy**2\n",
    "print( f\"{boy}m.,{kilo}kg. bmi ={bmi}\")\n",
    "\n",
    "boy = 1.73\n",
    "kilo = 65\n",
    "bmi = kilo // boy**2\n",
    "print( f\"{boy}m.,{kilo}kg. bmi ={bmi}\")\n"
   ]
  },
  {
   "cell_type": "code",
   "execution_count": 49,
   "metadata": {},
   "outputs": [
    {
     "name": "stdout",
     "output_type": "stream",
     "text": [
      "merhaba\n",
      "merhaba\n",
      "merhaba\n"
     ]
    }
   ],
   "source": [
    "def selam_soyle() :\n",
    "    print(\"merhaba\")\n",
    "\n",
    "selam_soyle()\n",
    "selam_soyle()\n",
    "selam_soyle()"
   ]
  },
  {
   "cell_type": "code",
   "execution_count": 56,
   "metadata": {},
   "outputs": [
    {
     "name": "stdout",
     "output_type": "stream",
     "text": [
      "Adım: ömer Soyadım:çam\n",
      "Adım: ali Soyadım:çam\n",
      "Adım: ali Soyadım:varsayılan\n"
     ]
    }
   ],
   "source": [
    "def adimi_soyle(ad,soyad=\"varsayılan\"):\n",
    "    print(f\"Adım: {ad} Soyadım:{soyad}\")\n",
    "\n",
    "a = \"ömer\"\n",
    "adimi_soyle(a,\"çam\")\n",
    "adimi_soyle(\"ali\",\"çam\")\n",
    "adimi_soyle(\"ali\")"
   ]
  },
  {
   "cell_type": "code",
   "execution_count": 59,
   "metadata": {},
   "outputs": [
    {
     "name": "stdout",
     "output_type": "stream",
     "text": [
      "1.5m.,75kg. bmi =33.0, durum=Obez\n",
      "1.5m.,120kg. bmi =53.0, durum=Morbit\n",
      "1.9m.,90kg. bmi =24.0, durum=Normal\n",
      "1.85m.,75kg. bmi =21.0, durum=Normal\n"
     ]
    }
   ],
   "source": [
    "def bmi_hesap(kilo,boy):\n",
    "    bmi = kilo // boy**2\n",
    "    durum = \"ideal\"\n",
    "    if(bmi<18.5) :\n",
    "        durum = \"Zayıf\"\n",
    "    elif (bmi <25) :\n",
    "        durum = \"Normal\"\n",
    "    elif (bmi < 30) :\n",
    "        durum = \"Kilolu\"\n",
    "    elif (bmi < 35) :\n",
    "        durum = \"Obez\"\n",
    "    else :\n",
    "        durum = \"Morbit\"\n",
    "    print( f\"{boy}m.,{kilo}kg. bmi ={bmi}, durum={durum}\")\n",
    "\n",
    "bmi_hesap(75,1.5)\n",
    "bmi_hesap(120,1.5)\n",
    "bmi_hesap(90,1.9)\n",
    "bmi_hesap(75,1.85)"
   ]
  },
  {
   "cell_type": "code",
   "execution_count": 61,
   "metadata": {},
   "outputs": [
    {
     "name": "stdout",
     "output_type": "stream",
     "text": [
      "Komut istemi programına hoşgeldiniz.\n",
      "===BMI Hesaplayıcı====\n",
      "Çıkmak için e'ye basın\n",
      "Kilo hesabı için kilonuzu yazınız.\n",
      "1.8m.,75kg. bmi =23.0, durum=Normal\n",
      "Çıkmak için e'ye basın\n",
      "Kilo hesabı için kilonuzu yazınız.\n",
      "== Güle Güle, Sağlıklı Günler ==\n"
     ]
    }
   ],
   "source": [
    "print(\"Komut istemi programına hoşgeldiniz.\")\n",
    "print(\"===BMI Hesaplayıcı====\")\n",
    "while True :\n",
    "    print(\"Çıkmak için e'ye basın\")\n",
    "    print(\"Kilo hesabı için kilonuzu yazınız.\")\n",
    "    a =  input(\": \")\n",
    "    if(a == \"e\" ) :\n",
    "        break\n",
    "    else :\n",
    "        kilo = int(a)\n",
    "        boy  = int (input(\"boy(cm cinsinden yazınız.): \"))\n",
    "        boy = boy/100 # metreye çevirdik.\n",
    "        bmi_hesap(kilo,boy)\n",
    "print(\"== Güle Güle, Sağlıklı Günler ==\")\n",
    "\n"
   ]
  },
  {
   "cell_type": "code",
   "execution_count": 62,
   "metadata": {},
   "outputs": [],
   "source": [
    "import math\n",
    "\n",
    "def final_gerekli_hesabi(vize) :\n",
    "    print(\"Vize'den Aldığınız Not: \",vize)\n",
    "    # 50 = final*0.6 + vize*0.4\n",
    "    final = math.ceil((50-vize*0.4) / 0.6)\n",
    "    if(final<50) :\n",
    "        final = 50\n",
    "    print(f\"final için almanız gereken not: {final}\")"
   ]
  },
  {
   "cell_type": "code",
   "execution_count": 65,
   "metadata": {},
   "outputs": [
    {
     "name": "stdout",
     "output_type": "stream",
     "text": [
      "Vize'den Aldığınız Not:  26\n",
      "final için almanız gereken not: 66\n"
     ]
    }
   ],
   "source": [
    "final_gerekli_hesabi(26)"
   ]
  },
  {
   "cell_type": "code",
   "execution_count": 70,
   "metadata": {},
   "outputs": [
    {
     "data": {
      "text/plain": [
       "24"
      ]
     },
     "execution_count": 70,
     "metadata": {},
     "output_type": "execute_result"
    }
   ],
   "source": [
    "def iki_katini_al(sayi)  :\n",
    "    return sayi*2\n",
    "a = 3\n",
    "b = iki_katini_al( iki_katini_al( iki_katini_al(a) ) )\n",
    "b"
   ]
  },
  {
   "cell_type": "markdown",
   "metadata": {},
   "source": [
    "### Recursive - Yinelemeli"
   ]
  },
  {
   "cell_type": "code",
   "execution_count": 71,
   "metadata": {},
   "outputs": [
    {
     "ename": "RecursionError",
     "evalue": "maximum recursion depth exceeded",
     "output_type": "error",
     "traceback": [
      "\u001b[0;31m---------------------------------------------------------------------------\u001b[0m",
      "\u001b[0;31mRecursionError\u001b[0m                            Traceback (most recent call last)",
      "\u001b[1;32m/home/cam/workspace/örgünProgramlama/bes.ipynb Cell 15'\u001b[0m in \u001b[0;36m<cell line: 4>\u001b[0;34m()\u001b[0m\n\u001b[1;32m      <a href='vscode-notebook-cell:/home/cam/workspace/%C3%B6rg%C3%BCnProgramlama/bes.ipynb#ch0000014?line=0'>1</a>\u001b[0m \u001b[39mdef\u001b[39;00m \u001b[39mbeni_cagir\u001b[39m():\n\u001b[1;32m      <a href='vscode-notebook-cell:/home/cam/workspace/%C3%B6rg%C3%BCnProgramlama/bes.ipynb#ch0000014?line=1'>2</a>\u001b[0m     beni_cagir()\n\u001b[0;32m----> <a href='vscode-notebook-cell:/home/cam/workspace/%C3%B6rg%C3%BCnProgramlama/bes.ipynb#ch0000014?line=3'>4</a>\u001b[0m beni_cagir()\n",
      "\u001b[1;32m/home/cam/workspace/örgünProgramlama/bes.ipynb Cell 15'\u001b[0m in \u001b[0;36mbeni_cagir\u001b[0;34m()\u001b[0m\n\u001b[1;32m      <a href='vscode-notebook-cell:/home/cam/workspace/%C3%B6rg%C3%BCnProgramlama/bes.ipynb#ch0000014?line=0'>1</a>\u001b[0m \u001b[39mdef\u001b[39;00m \u001b[39mbeni_cagir\u001b[39m():\n\u001b[0;32m----> <a href='vscode-notebook-cell:/home/cam/workspace/%C3%B6rg%C3%BCnProgramlama/bes.ipynb#ch0000014?line=1'>2</a>\u001b[0m     beni_cagir()\n",
      "\u001b[1;32m/home/cam/workspace/örgünProgramlama/bes.ipynb Cell 15'\u001b[0m in \u001b[0;36mbeni_cagir\u001b[0;34m()\u001b[0m\n\u001b[1;32m      <a href='vscode-notebook-cell:/home/cam/workspace/%C3%B6rg%C3%BCnProgramlama/bes.ipynb#ch0000014?line=0'>1</a>\u001b[0m \u001b[39mdef\u001b[39;00m \u001b[39mbeni_cagir\u001b[39m():\n\u001b[0;32m----> <a href='vscode-notebook-cell:/home/cam/workspace/%C3%B6rg%C3%BCnProgramlama/bes.ipynb#ch0000014?line=1'>2</a>\u001b[0m     beni_cagir()\n",
      "    \u001b[0;31m[... skipping similar frames: beni_cagir at line 2 (2970 times)]\u001b[0m\n",
      "\u001b[1;32m/home/cam/workspace/örgünProgramlama/bes.ipynb Cell 15'\u001b[0m in \u001b[0;36mbeni_cagir\u001b[0;34m()\u001b[0m\n\u001b[1;32m      <a href='vscode-notebook-cell:/home/cam/workspace/%C3%B6rg%C3%BCnProgramlama/bes.ipynb#ch0000014?line=0'>1</a>\u001b[0m \u001b[39mdef\u001b[39;00m \u001b[39mbeni_cagir\u001b[39m():\n\u001b[0;32m----> <a href='vscode-notebook-cell:/home/cam/workspace/%C3%B6rg%C3%BCnProgramlama/bes.ipynb#ch0000014?line=1'>2</a>\u001b[0m     beni_cagir()\n",
      "\u001b[0;31mRecursionError\u001b[0m: maximum recursion depth exceeded"
     ]
    }
   ],
   "source": [
    "def beni_cagir():\n",
    "    beni_cagir()\n",
    "\n",
    "beni_cagir()"
   ]
  },
  {
   "cell_type": "markdown",
   "metadata": {},
   "source": [
    "debug - sorun çözme - programdaki hataları tarama\n"
   ]
  },
  {
   "cell_type": "code",
   "execution_count": 73,
   "metadata": {},
   "outputs": [
    {
     "name": "stdout",
     "output_type": "stream",
     "text": [
      "120\n"
     ]
    }
   ],
   "source": [
    "def faktoriyel(sayi) :\n",
    "    if(sayi==1) :\n",
    "        return 1\n",
    "    else :\n",
    "        return sayi * faktoriyel(sayi-1)\n",
    "\n",
    "print( faktoriyel(5) )"
   ]
  },
  {
   "cell_type": "code",
   "execution_count": 74,
   "metadata": {},
   "outputs": [
    {
     "name": "stdout",
     "output_type": "stream",
     "text": [
      "41\n"
     ]
    }
   ],
   "source": [
    "def f(x) :\n",
    "    return 2*x + 3\n",
    "def g(x) :\n",
    "    return 7*x - 2\n",
    "\n",
    "print(  f( g(3) )  )\n"
   ]
  },
  {
   "cell_type": "code",
   "execution_count": 77,
   "metadata": {},
   "outputs": [
    {
     "name": "stdout",
     "output_type": "stream",
     "text": [
      "0.8\n"
     ]
    }
   ],
   "source": [
    "f = lambda x : 2*x + 3\n",
    "\n",
    "def t(x,y) :\n",
    "    return ( 3*x - 7 ) / y + 1\n",
    "\n",
    "t = lambda x,y :  ( 3*x - 7 ) / y + 1\n",
    "\n",
    "print(t(2,5))\n"
   ]
  },
  {
   "cell_type": "code",
   "execution_count": 78,
   "metadata": {},
   "outputs": [
    {
     "name": "stdout",
     "output_type": "stream",
     "text": [
      "6\n"
     ]
    }
   ],
   "source": [
    "# scope - yaşam döngüsü...\n",
    "def anla(x) :\n",
    "    global a\n",
    "    a = x\n",
    "\n",
    "a = 5\n",
    "anla(6)\n",
    "print(a)"
   ]
  },
  {
   "cell_type": "code",
   "execution_count": 85,
   "metadata": {},
   "outputs": [
    {
     "name": "stdout",
     "output_type": "stream",
     "text": [
      "1 3\n"
     ]
    }
   ],
   "source": [
    "def ak(bir=1,iki=2):\n",
    "    \"burası fonksiyon hakkında bilgi yeridir.\"\n",
    "    print(bir,iki)\n",
    "\n",
    "ak(iki=3)"
   ]
  }
 ],
 "metadata": {
  "interpreter": {
   "hash": "e7370f93d1d0cde622a1f8e1c04877d8463912d04d973331ad4851f04de6915a"
  },
  "kernelspec": {
   "display_name": "Python 3.10.3 64-bit",
   "language": "python",
   "name": "python3"
  },
  "language_info": {
   "codemirror_mode": {
    "name": "ipython",
    "version": 3
   },
   "file_extension": ".py",
   "mimetype": "text/x-python",
   "name": "python",
   "nbconvert_exporter": "python",
   "pygments_lexer": "ipython3",
   "version": "3.10.4"
  },
  "orig_nbformat": 4
 },
 "nbformat": 4,
 "nbformat_minor": 2
}
